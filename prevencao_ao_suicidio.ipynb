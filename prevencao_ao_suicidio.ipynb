{
  "nbformat": 4,
  "nbformat_minor": 0,
  "metadata": {
    "colab": {
      "name": "prevencao-ao-suicidio.ipynb",
      "provenance": [],
      "collapsed_sections": [],
      "include_colab_link": true
    },
    "kernelspec": {
      "name": "python3",
      "display_name": "Python 3"
    }
  },
  "cells": [
    {
      "cell_type": "markdown",
      "metadata": {
        "id": "view-in-github",
        "colab_type": "text"
      },
      "source": [
        "<a href=\"https://colab.research.google.com/github/welleson-lukas/data_science_python/blob/master/prevencao_ao_suicidio.ipynb\" target=\"_parent\"><img src=\"https://colab.research.google.com/assets/colab-badge.svg\" alt=\"Open In Colab\"/></a>"
      ]
    },
    {
      "cell_type": "markdown",
      "metadata": {
        "id": "oGCbEcwjoKov",
        "colab_type": "text"
      },
      "source": [
        "# Prevenção ao suícidio - Setembro Amarelo\n",
        "A campanha Setembro Amarelo salva vidas! \n",
        "Desde 2014, a Associação Brasileira de Psiquiatria – ABP, em parceria com o Conselho Federal de Medicina – CFM, organiza nacionalmente o Setembro Amarelo. O dia 10 deste mês é, oficialmente, o Dia Mundial de Prevenção ao Suicídio, mas a campanha acontece durante todo o ano.\n",
        "\n",
        "​\n",
        "São registrados cerca de 12 mil suicídios todos os anos no Brasil e mais de 01 milhão no mundo. Trata-se de uma triste realidade, que registra cada vez mais casos, principalmente entre os jovens. Cerca de 96,8% dos casos de suicídio estavam relacionados a transtornos mentais. Em primeiro lugar está a depressão, seguida do transtorno bipolar e abuso de substâncias.\n",
        "\n",
        "​\n",
        "Com o objetivo de prevenir e reduzir estes números a campanha Setembro Amarelo cresceu e hoje conquistamos o Brasil inteiro. Para isso, o apoio das nossas federadas, núcleos, associados e de toda a sociedade é fundamental."
      ]
    },
    {
      "cell_type": "code",
      "metadata": {
        "id": "URadu2vVoIxo",
        "colab_type": "code",
        "colab": {}
      },
      "source": [
        "#IMPORTAÇÃO DOS PACOTES NECESSÁRIOS\n",
        "\n",
        "import pandas as pd\n",
        "import numpy as np\n",
        "import matplotlib.pyplot as plt\n",
        "import seaborn as sns"
      ],
      "execution_count": 0,
      "outputs": []
    },
    {
      "cell_type": "code",
      "metadata": {
        "id": "Qb4Mw4RZueaz",
        "colab_type": "code",
        "colab": {}
      },
      "source": [
        "#IMPORTAÇÃO DOS DADOS SOBRE O SUICIDIO PARA UM DATAFRAME\n",
        "dadosdf = pd.read_csv(\"https://raw.githubusercontent.com/welleson-lukas/prevencao-ao-suicidio/172d3a355af4deb598eb6ec5f200111cdb472ca0/dadossuicidio-1985-2016.csv\")"
      ],
      "execution_count": 0,
      "outputs": []
    },
    {
      "cell_type": "markdown",
      "metadata": {
        "id": "nS5axLFSvtty",
        "colab_type": "text"
      },
      "source": [
        "## Este arquivo csv está disponivel [aqui](https://www.kaggle.com/russellyates88/suicide-rates-overview-1985-to-2016)\n",
        "\n",
        "O arquivo csv possui 27.820 linhas e 12 colunas divididas na seguinte forma:\n",
        "\n",
        "\n",
        "*   **country**: pais onde os dados foram registrados\n",
        "*   **year**: ano em que os dados foram registrados\n",
        "*   **sex**: sexo considerado no registro (**male**: masculino / **female**: feminino)\n",
        "*   **age**: faixa etária considerada\n",
        "  *   5-14 anos\n",
        "  *   15-24 anos\n",
        "  *   25-34 anos\n",
        "  *   35-54 anos\n",
        "  *   55-74 anos\n",
        "  *   75+ anos\n",
        "*   **suicide_no**: número de suicídios\n",
        "*   **population**: população para o grupo\n",
        "*   **suicides/100k pop**: número de suicídios por 100 mil habitantes\n",
        "*   **country_year**: identificador contendo região + ano\n",
        "*   **HDI_for_year**: Índice de Desenvolvimento Humano (IDH) para o ano\n",
        "*   **gdp_for_year**: Produto Interno Bruto (PIB) para o ano\n",
        "*   **gdp_per_capita**: Produto Interno Bruto (PIB) per capita\n",
        "\n",
        "\n",
        "\n",
        "\n",
        "\n",
        "\n",
        "\n",
        "\n",
        "\n",
        "\n"
      ]
    },
    {
      "cell_type": "code",
      "metadata": {
        "id": "bONoOJgkzPAp",
        "colab_type": "code",
        "outputId": "de15398d-a9fe-4d2c-b9b4-fd89c3222f02",
        "colab": {
          "base_uri": "https://localhost:8080/",
          "height": 306
        }
      },
      "source": [
        "# VAMOS EXTRAIR APENAS DADOS RELATIVOS AO BRASIL\n",
        "df_brasil = dadosdf[dadosdf.country == \"Brazil\"].copy()\n",
        "\n",
        "# VAMOS VER O FORMATO DO NOVO DATAFRAME\n",
        "print(\"Formato do DataFrame: \", df_brasil.shape)\n",
        "\n",
        "# VAMOS EXIBIR AS 5 PRIMEIRAS ENTRADAS DO NOVO DATAFRAME\n",
        "df_brasil.head()"
      ],
      "execution_count": 5,
      "outputs": [
        {
          "output_type": "stream",
          "text": [
            "Formato do DataFrame:  (372, 12)\n"
          ],
          "name": "stdout"
        },
        {
          "output_type": "execute_result",
          "data": {
            "text/html": [
              "<div>\n",
              "<style scoped>\n",
              "    .dataframe tbody tr th:only-of-type {\n",
              "        vertical-align: middle;\n",
              "    }\n",
              "\n",
              "    .dataframe tbody tr th {\n",
              "        vertical-align: top;\n",
              "    }\n",
              "\n",
              "    .dataframe thead th {\n",
              "        text-align: right;\n",
              "    }\n",
              "</style>\n",
              "<table border=\"1\" class=\"dataframe\">\n",
              "  <thead>\n",
              "    <tr style=\"text-align: right;\">\n",
              "      <th></th>\n",
              "      <th>country</th>\n",
              "      <th>year</th>\n",
              "      <th>sex</th>\n",
              "      <th>age</th>\n",
              "      <th>suicides_no</th>\n",
              "      <th>population</th>\n",
              "      <th>suicides/100k pop</th>\n",
              "      <th>country-year</th>\n",
              "      <th>HDI for year</th>\n",
              "      <th>gdp_for_year ($)</th>\n",
              "      <th>gdp_per_capita ($)</th>\n",
              "      <th>generation</th>\n",
              "    </tr>\n",
              "  </thead>\n",
              "  <tbody>\n",
              "    <tr>\n",
              "      <th>4172</th>\n",
              "      <td>Brazil</td>\n",
              "      <td>1985</td>\n",
              "      <td>male</td>\n",
              "      <td>75+ years</td>\n",
              "      <td>129</td>\n",
              "      <td>840300</td>\n",
              "      <td>15.35</td>\n",
              "      <td>Brazil1985</td>\n",
              "      <td>0.576</td>\n",
              "      <td>222,942,790,435</td>\n",
              "      <td>1898</td>\n",
              "      <td>G.I. Generation</td>\n",
              "    </tr>\n",
              "    <tr>\n",
              "      <th>4173</th>\n",
              "      <td>Brazil</td>\n",
              "      <td>1985</td>\n",
              "      <td>male</td>\n",
              "      <td>55-74 years</td>\n",
              "      <td>535</td>\n",
              "      <td>5364900</td>\n",
              "      <td>9.97</td>\n",
              "      <td>Brazil1985</td>\n",
              "      <td>0.576</td>\n",
              "      <td>222,942,790,435</td>\n",
              "      <td>1898</td>\n",
              "      <td>G.I. Generation</td>\n",
              "    </tr>\n",
              "    <tr>\n",
              "      <th>4174</th>\n",
              "      <td>Brazil</td>\n",
              "      <td>1985</td>\n",
              "      <td>male</td>\n",
              "      <td>35-54 years</td>\n",
              "      <td>1011</td>\n",
              "      <td>11986300</td>\n",
              "      <td>8.43</td>\n",
              "      <td>Brazil1985</td>\n",
              "      <td>0.576</td>\n",
              "      <td>222,942,790,435</td>\n",
              "      <td>1898</td>\n",
              "      <td>Silent</td>\n",
              "    </tr>\n",
              "    <tr>\n",
              "      <th>4175</th>\n",
              "      <td>Brazil</td>\n",
              "      <td>1985</td>\n",
              "      <td>male</td>\n",
              "      <td>25-34 years</td>\n",
              "      <td>791</td>\n",
              "      <td>10762900</td>\n",
              "      <td>7.35</td>\n",
              "      <td>Brazil1985</td>\n",
              "      <td>0.576</td>\n",
              "      <td>222,942,790,435</td>\n",
              "      <td>1898</td>\n",
              "      <td>Boomers</td>\n",
              "    </tr>\n",
              "    <tr>\n",
              "      <th>4176</th>\n",
              "      <td>Brazil</td>\n",
              "      <td>1985</td>\n",
              "      <td>male</td>\n",
              "      <td>15-24 years</td>\n",
              "      <td>661</td>\n",
              "      <td>13834000</td>\n",
              "      <td>4.78</td>\n",
              "      <td>Brazil1985</td>\n",
              "      <td>0.576</td>\n",
              "      <td>222,942,790,435</td>\n",
              "      <td>1898</td>\n",
              "      <td>Generation X</td>\n",
              "    </tr>\n",
              "  </tbody>\n",
              "</table>\n",
              "</div>"
            ],
            "text/plain": [
              "     country  year  ... gdp_per_capita ($)       generation\n",
              "4172  Brazil  1985  ...               1898  G.I. Generation\n",
              "4173  Brazil  1985  ...               1898  G.I. Generation\n",
              "4174  Brazil  1985  ...               1898           Silent\n",
              "4175  Brazil  1985  ...               1898          Boomers\n",
              "4176  Brazil  1985  ...               1898     Generation X\n",
              "\n",
              "[5 rows x 12 columns]"
            ]
          },
          "metadata": {
            "tags": []
          },
          "execution_count": 5
        }
      ]
    },
    {
      "cell_type": "markdown",
      "metadata": {
        "id": "qunDiknq1MSv",
        "colab_type": "text"
      },
      "source": [
        "## Tendência da taxa de suicídio no Brasil\n",
        "Para ver essa tendência, é melhor sempre usar essa relação por 100 mil, pois a população do país cresceu muito de 1985 para 2015. Se formos comparar em termos absolutos, poderemos tirar conclusões erradas ou distorcidas.\n",
        "\n",
        "No gráfico abaixo é facilmente percebido que a taxa de suicídios no Brasil é menor que a média mundial, porém são números que se mantem com picos crescentes ao longo de 30 anos\n"
      ]
    },
    {
      "cell_type": "code",
      "metadata": {
        "id": "KWN-AWb61bds",
        "colab_type": "code",
        "outputId": "a8383f1c-e049-44da-aeb3-17aa2dea2437",
        "colab": {
          "base_uri": "https://localhost:8080/",
          "height": 269
        }
      },
      "source": [
        "# VAMOS PEGAR A MÉDIA MUNDIAL E TAMBÉM A MÉDIA DO BRASIL EM SUICÍDIOS\n",
        "anos = df_brasil.year.unique()\n",
        "suicidios_brasil_mean = df_brasil.groupby('year')['suicides/100k pop'].mean()\n",
        "suicidios_mundo_mean = dadosdf.groupby('year')['suicides/100k pop'].mean()\n",
        "\n",
        "# POR NÃO EXISTIR DADOS DO ANO DE 2016 PARA O BRASIL, VAMOS REMOVER DA NOSSA ANALISE\n",
        "suicidios_mundo_mean.drop(2016, inplace=True)\n",
        "\n",
        "# AGORA VAMOS PLOTAR O LINEPLOT DO COMPARATIVO BRASIL - MUNDO\n",
        "ax = sns.lineplot(x=anos, y=suicidios_brasil_mean, label='Brasil')\n",
        "ax = sns.lineplot(x=anos, y=suicidios_mundo_mean, label='Mundo')\n",
        "\n",
        "plt.legend(title=\"Taxa de suicídios\")\n",
        "plt.show()"
      ],
      "execution_count": 6,
      "outputs": [
        {
          "output_type": "display_data",
          "data": {
            "image/png": "[encoded data removed]",
            "text/plain": [
              "<Figure size 432x288 with 1 Axes>"
            ]
          },
          "metadata": {
            "tags": []
          }
        }
      ]
    },
    {
      "cell_type": "markdown",
      "metadata": {
        "id": "GwvtRsGmGmmd",
        "colab_type": "text"
      },
      "source": [
        "##Faixa etária com maior índice de suicídio\n",
        "O principal objetivo é identificar qual faixa etária de idade que tem a maior representatividade nos dados referentes ao suicídio e identificar a mudança nos ultimos 30 anos."
      ]
    },
    {
      "cell_type": "code",
      "metadata": {
        "id": "JcQ7yRQpGavT",
        "colab_type": "code",
        "colab": {
          "base_uri": "https://localhost:8080/",
          "height": 235
        },
        "outputId": "29202e8c-7784-41bb-a443-af5c642a9784"
      },
      "source": [
        "# VAMOS CRIAR UMA TABELA DINAMICA\n",
        "table = pd.pivot_table(df_brasil, values='suicides_no', index=['year'], columns=['age'])\n",
        "\n",
        "# REORDENAR AS TABELAS PARA ORDEM CRESCENTE\n",
        "column_order = ['5-14 years', '15-24 years', '25-34 years', '35-54 years', '55-74 years', '75+ years']\n",
        "table = table.reindex(column_order, axis=1)\n",
        "\n",
        "# VAMOS VER AS 5 PRIMEIRAS ENTRADAS DA PIVOT TABLE\n",
        "table.head()"
      ],
      "execution_count": 7,
      "outputs": [
        {
          "output_type": "execute_result",
          "data": {
            "text/html": [
              "<div>\n",
              "<style scoped>\n",
              "    .dataframe tbody tr th:only-of-type {\n",
              "        vertical-align: middle;\n",
              "    }\n",
              "\n",
              "    .dataframe tbody tr th {\n",
              "        vertical-align: top;\n",
              "    }\n",
              "\n",
              "    .dataframe thead th {\n",
              "        text-align: right;\n",
              "    }\n",
              "</style>\n",
              "<table border=\"1\" class=\"dataframe\">\n",
              "  <thead>\n",
              "    <tr style=\"text-align: right;\">\n",
              "      <th>age</th>\n",
              "      <th>5-14 years</th>\n",
              "      <th>15-24 years</th>\n",
              "      <th>25-34 years</th>\n",
              "      <th>35-54 years</th>\n",
              "      <th>55-74 years</th>\n",
              "      <th>75+ years</th>\n",
              "    </tr>\n",
              "    <tr>\n",
              "      <th>year</th>\n",
              "      <th></th>\n",
              "      <th></th>\n",
              "      <th></th>\n",
              "      <th></th>\n",
              "      <th></th>\n",
              "      <th></th>\n",
              "    </tr>\n",
              "  </thead>\n",
              "  <tbody>\n",
              "    <tr>\n",
              "      <th>1985</th>\n",
              "      <td>38.0</td>\n",
              "      <td>470.5</td>\n",
              "      <td>530.0</td>\n",
              "      <td>653.5</td>\n",
              "      <td>341.5</td>\n",
              "      <td>80.5</td>\n",
              "    </tr>\n",
              "    <tr>\n",
              "      <th>1986</th>\n",
              "      <td>31.0</td>\n",
              "      <td>508.0</td>\n",
              "      <td>505.5</td>\n",
              "      <td>651.0</td>\n",
              "      <td>372.0</td>\n",
              "      <td>68.0</td>\n",
              "    </tr>\n",
              "    <tr>\n",
              "      <th>1987</th>\n",
              "      <td>33.5</td>\n",
              "      <td>502.0</td>\n",
              "      <td>565.5</td>\n",
              "      <td>724.5</td>\n",
              "      <td>422.0</td>\n",
              "      <td>88.5</td>\n",
              "    </tr>\n",
              "    <tr>\n",
              "      <th>1988</th>\n",
              "      <td>30.0</td>\n",
              "      <td>472.0</td>\n",
              "      <td>557.5</td>\n",
              "      <td>724.0</td>\n",
              "      <td>356.0</td>\n",
              "      <td>93.5</td>\n",
              "    </tr>\n",
              "    <tr>\n",
              "      <th>1989</th>\n",
              "      <td>31.5</td>\n",
              "      <td>491.5</td>\n",
              "      <td>569.0</td>\n",
              "      <td>692.5</td>\n",
              "      <td>354.5</td>\n",
              "      <td>92.5</td>\n",
              "    </tr>\n",
              "  </tbody>\n",
              "</table>\n",
              "</div>"
            ],
            "text/plain": [
              "age   5-14 years  15-24 years  25-34 years  35-54 years  55-74 years  75+ years\n",
              "year                                                                           \n",
              "1985        38.0        470.5        530.0        653.5        341.5       80.5\n",
              "1986        31.0        508.0        505.5        651.0        372.0       68.0\n",
              "1987        33.5        502.0        565.5        724.5        422.0       88.5\n",
              "1988        30.0        472.0        557.5        724.0        356.0       93.5\n",
              "1989        31.5        491.5        569.0        692.5        354.5       92.5"
            ]
          },
          "metadata": {
            "tags": []
          },
          "execution_count": 7
        }
      ]
    },
    {
      "cell_type": "code",
      "metadata": {
        "id": "aG4zMBEoKPCw",
        "colab_type": "code",
        "colab": {
          "base_uri": "https://localhost:8080/",
          "height": 533
        },
        "outputId": "881822c4-8bda-4995-c34a-711c001d53a3"
      },
      "source": [
        "# PLOTAR A PIVOT TABLE DAS FAIXAS ETÁRIAS\n",
        "table.plot.bar(stacked=True, figsize=(16,8))\n",
        "plt.legend(title=\"Idade\")"
      ],
      "execution_count": 8,
      "outputs": [
        {
          "output_type": "execute_result",
          "data": {
            "text/plain": [
              "<matplotlib.legend.Legend at 0x7fa47ad23c18>"
            ]
          },
          "metadata": {
            "tags": []
          },
          "execution_count": 8
        },
        {
          "output_type": "display_data",
          "data": {
            "image/png": "[encoded data removed]",
            "text/plain": [
              "<Figure size 1152x576 with 1 Axes>"
            ]
          },
          "metadata": {
            "tags": []
          }
        }
      ]
    },
    {
      "cell_type": "markdown",
      "metadata": {
        "id": "Tz6iF97FLgvN",
        "colab_type": "text"
      },
      "source": [
        "##Dados do ano de 2015"
      ]
    },
    {
      "cell_type": "code",
      "metadata": {
        "id": "F_2NHSNjLAxU",
        "colab_type": "code",
        "colab": {
          "base_uri": "https://localhost:8080/",
          "height": 153
        },
        "outputId": "1bf9ba45-0f1e-4f4b-bf42-8dc60bc7f7c6"
      },
      "source": [
        "# ESTATISTICA DE SUICIDIOS POR FAIXA ETÁRIA\n",
        "table[['25-34 years']].loc[2015]\n",
        "table.loc[2015] / table.loc[2015].sum()"
      ],
      "execution_count": 9,
      "outputs": [
        {
          "output_type": "execute_result",
          "data": {
            "text/plain": [
              "age\n",
              "5-14 years     0.012094\n",
              "15-24 years    0.159993\n",
              "25-34 years    0.211681\n",
              "35-54 years    0.371585\n",
              "55-74 years    0.194571\n",
              "75+ years      0.050076\n",
              "Name: 2015, dtype: float64"
            ]
          },
          "metadata": {
            "tags": []
          },
          "execution_count": 9
        }
      ]
    },
    {
      "cell_type": "markdown",
      "metadata": {
        "id": "Abton-3lL1mo",
        "colab_type": "text"
      },
      "source": [
        "##Taxa de suicídio entre homens e mulheres\n",
        "Vamos análisar a porcentagem dos suicídios entre homens e mulheres"
      ]
    },
    {
      "cell_type": "code",
      "metadata": {
        "id": "qfAIYwQzMalY",
        "colab_type": "code",
        "colab": {
          "base_uri": "https://localhost:8080/",
          "height": 357
        },
        "outputId": "395b73d3-7b30-4aac-8c06-e4a530708d0a"
      },
      "source": [
        "# EXTRAIR VALORES ENTRE HOMENS E MULHERES\n",
        "homens_mulheres = df_brasil.groupby('sex').suicides_no.sum() / df_brasil.groupby('sex').suicides_no.sum().sum()\n",
        "\n",
        "#PLOTAR O GRAFICO DE PIZZA\n",
        "plt.pie(homens_mulheres, labels =['mulheres', 'homens'], autopct='%1.1f%%', shadow=True)"
      ],
      "execution_count": 11,
      "outputs": [
        {
          "output_type": "execute_result",
          "data": {
            "text/plain": [
              "([<matplotlib.patches.Wedge at 0x7fa47812d860>,\n",
              "  <matplotlib.patches.Wedge at 0x7fa478136240>],\n",
              " [Text(0.8556707493718532, 0.6912507277894262, 'mulheres'),\n",
              "  Text(-0.8556707817316342, -0.6912506877325866, 'homens')],\n",
              " [Text(0.4667294996573744, 0.37704585152150516, '21.6%'),\n",
              "  Text(-0.4667295173081641, -0.3770458296723199, '78.4%')])"
            ]
          },
          "metadata": {
            "tags": []
          },
          "execution_count": 11
        },
        {
          "output_type": "display_data",
          "data": {
            "image/png": "[encoded data removed]",
            "text/plain": [
              "<Figure size 432x288 with 1 Axes>"
            ]
          },
          "metadata": {
            "tags": []
          }
        }
      ]
    }
  ]
}